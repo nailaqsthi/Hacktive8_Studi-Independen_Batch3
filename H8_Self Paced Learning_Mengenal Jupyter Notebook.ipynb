{
 "cells": [
  {
   "cell_type": "markdown",
   "id": "dc467c55",
   "metadata": {},
   "source": [
    "## Self Paced Learning - Memahami Jupyter Notebook\n",
    "#### Naila Qisthi Azzahra   PYTN-KS08-018\n",
    "#### Python for Data Science"
   ]
  },
  {
   "cell_type": "markdown",
   "id": "c9fb450b",
   "metadata": {},
   "source": [
    "Jupyter notebook bisa digunakan untuk live code, visualisasi data, dan machine learning.\n",
    "Jupyter merupakan akronim dari Julia, Pythomn, dan R, yang artinya bisa digunakan untuk bahasa pemrograman tersebut.\n",
    "Jupyter bisa di install melalui anaconda atau pip pada command."
   ]
  },
  {
   "cell_type": "markdown",
   "id": "ed739b63",
   "metadata": {},
   "source": [
    "### Using Library"
   ]
  },
  {
   "cell_type": "code",
   "execution_count": 1,
   "id": "042021a1",
   "metadata": {},
   "outputs": [],
   "source": [
    "import pandas as pd\n",
    "import numpy as np"
   ]
  },
  {
   "cell_type": "code",
   "execution_count": 3,
   "id": "7603f23d",
   "metadata": {},
   "outputs": [
    {
     "data": {
      "text/html": [
       "<div>\n",
       "<style scoped>\n",
       "    .dataframe tbody tr th:only-of-type {\n",
       "        vertical-align: middle;\n",
       "    }\n",
       "\n",
       "    .dataframe tbody tr th {\n",
       "        vertical-align: top;\n",
       "    }\n",
       "\n",
       "    .dataframe thead th {\n",
       "        text-align: right;\n",
       "    }\n",
       "</style>\n",
       "<table border=\"1\" class=\"dataframe\">\n",
       "  <thead>\n",
       "    <tr style=\"text-align: right;\">\n",
       "      <th></th>\n",
       "      <th>A</th>\n",
       "      <th>B</th>\n",
       "      <th>C</th>\n",
       "    </tr>\n",
       "  </thead>\n",
       "  <tbody>\n",
       "    <tr>\n",
       "      <th>0</th>\n",
       "      <td>1</td>\n",
       "      <td>2</td>\n",
       "      <td>3</td>\n",
       "    </tr>\n",
       "    <tr>\n",
       "      <th>1</th>\n",
       "      <td>4</td>\n",
       "      <td>5</td>\n",
       "      <td>6</td>\n",
       "    </tr>\n",
       "  </tbody>\n",
       "</table>\n",
       "</div>"
      ],
      "text/plain": [
       "   A  B  C\n",
       "0  1  2  3\n",
       "1  4  5  6"
      ]
     },
     "execution_count": 3,
     "metadata": {},
     "output_type": "execute_result"
    }
   ],
   "source": [
    "data = pd.DataFrame(data=np.array([[1,2,3],[4,5,6]], dtype=int), columns=['A', 'B', 'C'])\n",
    "data"
   ]
  },
  {
   "cell_type": "markdown",
   "id": "2d8de3cc",
   "metadata": {},
   "source": [
    "### Using Latex\n",
    "Diawali dengan $$ pada markdown"
   ]
  },
  {
   "cell_type": "markdown",
   "id": "c63b49f1",
   "metadata": {},
   "source": [
    "$$c = \\sqrt{a^2 + b^2}$$"
   ]
  },
  {
   "cell_type": "markdown",
   "id": "1f6b7c32",
   "metadata": {},
   "source": [
    "Atau bisa juga pada code Python dengan menginstall terlebih dahulu Latex seperti berikut"
   ]
  },
  {
   "cell_type": "code",
   "execution_count": 5,
   "id": "1fc17806",
   "metadata": {},
   "outputs": [
    {
     "data": {
      "text/latex": [
       "$\\displaystyle \\sqrt{a^2 + b^2}$"
      ],
      "text/plain": [
       "<IPython.core.display.Math object>"
      ]
     },
     "metadata": {},
     "output_type": "display_data"
    }
   ],
   "source": [
    "from IPython.display import display, Math, Latex\n",
    "display(Math(r'\\sqrt{a^2 + b^2}'))"
   ]
  },
  {
   "cell_type": "markdown",
   "id": "482bb9f3",
   "metadata": {},
   "source": [
    "### Executing Shell Commands"
   ]
  },
  {
   "cell_type": "code",
   "execution_count": 6,
   "id": "737f7b03",
   "metadata": {},
   "outputs": [
    {
     "name": "stderr",
     "output_type": "stream",
     "text": [
      "'ls' is not recognized as an internal or external command,\n",
      "operable program or batch file.\n",
      "'pwd' is not recognized as an internal or external command,\n",
      "operable program or batch file.\n"
     ]
    },
    {
     "name": "stdout",
     "output_type": "stream",
     "text": [
      "\"Halo Naila\"\n"
     ]
    }
   ],
   "source": [
    "!ls\n",
    "!pwd\n",
    "!echo \"Halo Naila\""
   ]
  },
  {
   "cell_type": "markdown",
   "id": "37c4d107",
   "metadata": {},
   "source": [
    "### Pass Value to and from Shell"
   ]
  },
  {
   "cell_type": "code",
   "execution_count": 7,
   "id": "bae99c1e",
   "metadata": {},
   "outputs": [
    {
     "name": "stdout",
     "output_type": "stream",
     "text": [
      "[\"'ls' is not recognized as an internal or external command,\", 'operable program or batch file.']\n"
     ]
    }
   ],
   "source": [
    "files = !ls\n",
    "print(files)"
   ]
  },
  {
   "cell_type": "markdown",
   "id": "4fa67d9c",
   "metadata": {},
   "source": [
    "### Beberapa tips menggunakan Jupyter\n",
    "1. Bisa install tema \n",
    "2. Bisa menambahkan extension tools lain untuk membantu mempermudah pekerjaan (hinterlan, snippets, table of content, autotape)\n",
    "3. Bisa menggunakan widgets\n",
    "4. Bisa menggunakan Checkbox\n",
    "5. Bisa menggunakan Textbox\n",
    "6. Bisa menggunakan Play Button"
   ]
  }
 ],
 "metadata": {
  "kernelspec": {
   "display_name": "Python 3",
   "language": "python",
   "name": "python3"
  },
  "language_info": {
   "codemirror_mode": {
    "name": "ipython",
    "version": 3
   },
   "file_extension": ".py",
   "mimetype": "text/x-python",
   "name": "python",
   "nbconvert_exporter": "python",
   "pygments_lexer": "ipython3",
   "version": "3.8.8"
  }
 },
 "nbformat": 4,
 "nbformat_minor": 5
}
