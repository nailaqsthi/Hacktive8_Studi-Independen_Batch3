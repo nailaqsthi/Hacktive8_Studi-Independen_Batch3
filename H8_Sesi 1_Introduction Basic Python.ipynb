{
 "cells": [
  {
   "cell_type": "markdown",
   "id": "620f57af",
   "metadata": {},
   "source": [
    "### Data Type"
   ]
  },
  {
   "cell_type": "code",
   "execution_count": 1,
   "id": "846bef03",
   "metadata": {},
   "outputs": [
    {
     "data": {
      "text/plain": [
       "int"
      ]
     },
     "execution_count": 1,
     "metadata": {},
     "output_type": "execute_result"
    }
   ],
   "source": [
    "n = 1234\n",
    "n\n",
    "type(n)"
   ]
  },
  {
   "cell_type": "code",
   "execution_count": 2,
   "id": "381c4cfa",
   "metadata": {},
   "outputs": [
    {
     "data": {
      "text/plain": [
       "float"
      ]
     },
     "execution_count": 2,
     "metadata": {},
     "output_type": "execute_result"
    }
   ],
   "source": [
    "a = 4.5\n",
    "a\n",
    "type(a)"
   ]
  },
  {
   "cell_type": "code",
   "execution_count": 3,
   "id": "0ba0d2e6",
   "metadata": {},
   "outputs": [
    {
     "data": {
      "text/plain": [
       "float"
      ]
     },
     "execution_count": 3,
     "metadata": {},
     "output_type": "execute_result"
    }
   ],
   "source": [
    "i = 4.0\n",
    "i\n",
    "type(i)"
   ]
  },
  {
   "cell_type": "code",
   "execution_count": 4,
   "id": "4a948ac8",
   "metadata": {},
   "outputs": [
    {
     "data": {
      "text/plain": [
       "str"
      ]
     },
     "execution_count": 4,
     "metadata": {},
     "output_type": "execute_result"
    }
   ],
   "source": [
    "l = \"hacktiv8\"\n",
    "l\n",
    "type(l)"
   ]
  },
  {
   "cell_type": "code",
   "execution_count": 5,
   "id": "8bbd0b38",
   "metadata": {},
   "outputs": [
    {
     "data": {
      "text/plain": [
       "bool"
      ]
     },
     "execution_count": 5,
     "metadata": {},
     "output_type": "execute_result"
    }
   ],
   "source": [
    "a = True\n",
    "type(a)"
   ]
  },
  {
   "cell_type": "code",
   "execution_count": 6,
   "id": "288b0d89",
   "metadata": {},
   "outputs": [
    {
     "name": "stdout",
     "output_type": "stream",
     "text": [
      "Haloo\n"
     ]
    },
    {
     "data": {
      "text/plain": [
       "str"
      ]
     },
     "execution_count": 6,
     "metadata": {},
     "output_type": "execute_result"
    }
   ],
   "source": [
    "varx = \"Haloo\"\n",
    "print(varx)\n",
    "type(varx)"
   ]
  },
  {
   "cell_type": "markdown",
   "id": "e8ce1947",
   "metadata": {},
   "source": [
    "### Variable Names"
   ]
  },
  {
   "cell_type": "markdown",
   "id": "64bbe297",
   "metadata": {},
   "source": [
    "Nama variable panjangnya tidak dibatasi, bisa berupa angka, huruf, atau karakter garis bawah. Karakter pertama tidak berupa angka"
   ]
  },
  {
   "cell_type": "code",
   "execution_count": 7,
   "id": "d5115ecd",
   "metadata": {},
   "outputs": [
    {
     "data": {
      "text/plain": [
       "'pertama'"
      ]
     },
     "execution_count": 7,
     "metadata": {},
     "output_type": "execute_result"
    }
   ],
   "source": [
    "_1 = 'pertama'\n",
    "_1"
   ]
  },
  {
   "cell_type": "code",
   "execution_count": 8,
   "id": "ee00b444",
   "metadata": {},
   "outputs": [
    {
     "name": "stdout",
     "output_type": "stream",
     "text": [
      "Naila 20 langsing tp doyan makan trs\n"
     ]
    }
   ],
   "source": [
    "name = \"Naila\"\n",
    "age = '20'\n",
    "citacita = 'langsing tp doyan makan trs'\n",
    "print(name, age, citacita)"
   ]
  },
  {
   "cell_type": "code",
   "execution_count": 9,
   "id": "a6715cec",
   "metadata": {},
   "outputs": [
    {
     "ename": "SyntaxError",
     "evalue": "invalid decimal literal (<ipython-input-9-1ec47026e058>, line 1)",
     "output_type": "error",
     "traceback": [
      "\u001b[1;36m  File \u001b[1;32m\"<ipython-input-9-1ec47026e058>\"\u001b[1;36m, line \u001b[1;32m1\u001b[0m\n\u001b[1;33m    8_hactive = 'MSIB'\u001b[0m\n\u001b[1;37m     ^\u001b[0m\n\u001b[1;31mSyntaxError\u001b[0m\u001b[1;31m:\u001b[0m invalid decimal literal\n"
     ]
    }
   ],
   "source": [
    "8_hactive = 'MSIB'"
   ]
  },
  {
   "cell_type": "markdown",
   "id": "7b3b7ea9",
   "metadata": {},
   "source": [
    "###### CASE SENSITIVE"
   ]
  },
  {
   "cell_type": "code",
   "execution_count": 11,
   "id": "79149b7b",
   "metadata": {},
   "outputs": [
    {
     "name": "stdout",
     "output_type": "stream",
     "text": [
      "22 20 21\n"
     ]
    }
   ],
   "source": [
    "AGE = 20\n",
    "aGE = 21\n",
    "Age = 22\n",
    "print(Age, AGE, aGE)"
   ]
  },
  {
   "cell_type": "markdown",
   "id": "36a184c7",
   "metadata": {},
   "source": [
    "### arithmetic operation"
   ]
  },
  {
   "cell_type": "code",
   "execution_count": 12,
   "id": "c6e11a7b",
   "metadata": {},
   "outputs": [
    {
     "data": {
      "text/plain": [
       "30"
      ]
     },
     "execution_count": 12,
     "metadata": {},
     "output_type": "execute_result"
    }
   ],
   "source": [
    "a = 10\n",
    "b = 20\n",
    "a+b"
   ]
  },
  {
   "cell_type": "code",
   "execution_count": 13,
   "id": "35229ea2",
   "metadata": {},
   "outputs": [
    {
     "data": {
      "text/plain": [
       "-10"
      ]
     },
     "execution_count": 13,
     "metadata": {},
     "output_type": "execute_result"
    }
   ],
   "source": [
    "a-b"
   ]
  },
  {
   "cell_type": "code",
   "execution_count": 14,
   "id": "c8b93730",
   "metadata": {},
   "outputs": [
    {
     "data": {
      "text/plain": [
       "1"
      ]
     },
     "execution_count": 14,
     "metadata": {},
     "output_type": "execute_result"
    }
   ],
   "source": [
    "11%2"
   ]
  },
  {
   "cell_type": "code",
   "execution_count": 15,
   "id": "cc126569",
   "metadata": {},
   "outputs": [
    {
     "data": {
      "text/plain": [
       "5.0"
      ]
     },
     "execution_count": 15,
     "metadata": {},
     "output_type": "execute_result"
    }
   ],
   "source": [
    "10/2"
   ]
  },
  {
   "cell_type": "code",
   "execution_count": 16,
   "id": "d3584edd",
   "metadata": {},
   "outputs": [
    {
     "data": {
      "text/plain": [
       "5.5"
      ]
     },
     "execution_count": 16,
     "metadata": {},
     "output_type": "execute_result"
    }
   ],
   "source": [
    "11/2"
   ]
  },
  {
   "cell_type": "code",
   "execution_count": 17,
   "id": "b5eb130d",
   "metadata": {},
   "outputs": [
    {
     "data": {
      "text/plain": [
       "55"
      ]
     },
     "execution_count": 17,
     "metadata": {},
     "output_type": "execute_result"
    }
   ],
   "source": [
    "11*5"
   ]
  },
  {
   "cell_type": "code",
   "execution_count": 18,
   "id": "0541c356",
   "metadata": {},
   "outputs": [
    {
     "data": {
      "text/plain": [
       "2"
      ]
     },
     "execution_count": 18,
     "metadata": {},
     "output_type": "execute_result"
    }
   ],
   "source": [
    "b//a"
   ]
  },
  {
   "cell_type": "code",
   "execution_count": 19,
   "id": "f3081336",
   "metadata": {},
   "outputs": [
    {
     "data": {
      "text/plain": [
       "2.0"
      ]
     },
     "execution_count": 19,
     "metadata": {},
     "output_type": "execute_result"
    }
   ],
   "source": [
    "b/a"
   ]
  },
  {
   "cell_type": "code",
   "execution_count": 20,
   "id": "f28031a0",
   "metadata": {},
   "outputs": [
    {
     "data": {
      "text/plain": [
       "2"
      ]
     },
     "execution_count": 20,
     "metadata": {},
     "output_type": "execute_result"
    }
   ],
   "source": [
    "b%3 #sisa"
   ]
  },
  {
   "cell_type": "code",
   "execution_count": 21,
   "id": "9b61037a",
   "metadata": {},
   "outputs": [
    {
     "data": {
      "text/plain": [
       "8000"
      ]
     },
     "execution_count": 21,
     "metadata": {},
     "output_type": "execute_result"
    }
   ],
   "source": [
    "b**3"
   ]
  },
  {
   "cell_type": "markdown",
   "id": "8389e9db",
   "metadata": {},
   "source": [
    "### Operator Penugasan\n",
    "\n",
    "|Operator |\tSimbol |\n",
    "|:--------|:-------|\n",
    "| Pengisian |\t= |\n",
    "| Penjumlahan |\t+= |\n",
    "| Pengurangan |\t-= |\n",
    "| Perkalian |\t*= |\n",
    "| Pembagian |\t/= |\n",
    "| Sisa Bagi |\t%= |\n",
    "| Pemangkatan |\t**= |"
   ]
  },
  {
   "cell_type": "code",
   "execution_count": 22,
   "id": "4feb7bab",
   "metadata": {},
   "outputs": [
    {
     "data": {
      "text/plain": [
       "9"
      ]
     },
     "execution_count": 22,
     "metadata": {},
     "output_type": "execute_result"
    }
   ],
   "source": [
    "a = 5\n",
    "b = 4\n",
    "a += b #a = a+b\n",
    "a"
   ]
  },
  {
   "cell_type": "code",
   "execution_count": 23,
   "id": "4e38b42e",
   "metadata": {},
   "outputs": [
    {
     "data": {
      "text/plain": [
       "5"
      ]
     },
     "execution_count": 23,
     "metadata": {},
     "output_type": "execute_result"
    }
   ],
   "source": [
    "a -= b\n",
    "a"
   ]
  },
  {
   "cell_type": "code",
   "execution_count": 24,
   "id": "175628eb",
   "metadata": {},
   "outputs": [
    {
     "data": {
      "text/plain": [
       "28"
      ]
     },
     "execution_count": 24,
     "metadata": {},
     "output_type": "execute_result"
    }
   ],
   "source": [
    "c = 7\n",
    "b *= c\n",
    "b"
   ]
  },
  {
   "cell_type": "code",
   "execution_count": 25,
   "id": "fe04f50a",
   "metadata": {},
   "outputs": [
    {
     "data": {
      "text/plain": [
       "25.0"
      ]
     },
     "execution_count": 25,
     "metadata": {},
     "output_type": "execute_result"
    }
   ],
   "source": [
    "d = 50\n",
    "d /= 2\n",
    "d"
   ]
  },
  {
   "cell_type": "code",
   "execution_count": 26,
   "id": "54e4aa29",
   "metadata": {},
   "outputs": [
    {
     "data": {
      "text/plain": [
       "1.0"
      ]
     },
     "execution_count": 26,
     "metadata": {},
     "output_type": "execute_result"
    }
   ],
   "source": [
    "d %= 2\n",
    "d"
   ]
  },
  {
   "cell_type": "code",
   "execution_count": 27,
   "id": "d8e12b36",
   "metadata": {},
   "outputs": [
    {
     "data": {
      "text/plain": [
       "125"
      ]
     },
     "execution_count": 27,
     "metadata": {},
     "output_type": "execute_result"
    }
   ],
   "source": [
    "a **= 3\n",
    "a"
   ]
  },
  {
   "cell_type": "code",
   "execution_count": 28,
   "id": "0d632237",
   "metadata": {},
   "outputs": [],
   "source": [
    "a = 2"
   ]
  },
  {
   "cell_type": "code",
   "execution_count": 29,
   "id": "18e1396a",
   "metadata": {},
   "outputs": [],
   "source": [
    "a **= 2"
   ]
  },
  {
   "cell_type": "code",
   "execution_count": 30,
   "id": "9b1bdef1",
   "metadata": {},
   "outputs": [
    {
     "data": {
      "text/plain": [
       "4"
      ]
     },
     "execution_count": 30,
     "metadata": {},
     "output_type": "execute_result"
    }
   ],
   "source": [
    "a"
   ]
  },
  {
   "cell_type": "markdown",
   "id": "689c8934",
   "metadata": {},
   "source": [
    "# Comparison Operators\n",
    "\n",
    "    Operator ini untuk membandingkan dua buah nilai. \n",
    "    Operator ini adalah operator relasi dan sering digunakan untuk membuat sebuah logika atau kondisi.\n",
    "\n",
    "|Operator |\tSimbol |\n",
    "|:--------|:-------|\n",
    "|Lebih Besar|\t> |\n",
    "| Lebih Kecil |\t< |\n",
    "| Sama Dengan\t| == | \n",
    "| Tidak Sama dengan |\t!= |\n",
    "| Lebih Besar Sama dengan |\t>= |\n",
    "| Lebih Kecil Sama dengan |\t<= |"
   ]
  },
  {
   "cell_type": "code",
   "execution_count": 31,
   "id": "d940f190",
   "metadata": {},
   "outputs": [
    {
     "data": {
      "text/plain": [
       "False"
      ]
     },
     "execution_count": 31,
     "metadata": {},
     "output_type": "execute_result"
    }
   ],
   "source": [
    "x = 10\n",
    "y =15\n",
    "x == y"
   ]
  },
  {
   "cell_type": "code",
   "execution_count": 32,
   "id": "2aa01e43",
   "metadata": {},
   "outputs": [
    {
     "data": {
      "text/plain": [
       "True"
      ]
     },
     "execution_count": 32,
     "metadata": {},
     "output_type": "execute_result"
    }
   ],
   "source": [
    "x != y"
   ]
  },
  {
   "cell_type": "code",
   "execution_count": 33,
   "id": "bbd9b8ce",
   "metadata": {},
   "outputs": [
    {
     "data": {
      "text/plain": [
       "True"
      ]
     },
     "execution_count": 33,
     "metadata": {},
     "output_type": "execute_result"
    }
   ],
   "source": [
    "a <= b"
   ]
  },
  {
   "cell_type": "code",
   "execution_count": 34,
   "id": "ea38ef2a",
   "metadata": {},
   "outputs": [
    {
     "data": {
      "text/plain": [
       "False"
      ]
     },
     "execution_count": 34,
     "metadata": {},
     "output_type": "execute_result"
    }
   ],
   "source": [
    "a >= b"
   ]
  },
  {
   "cell_type": "markdown",
   "id": "c5d92ec9",
   "metadata": {},
   "source": [
    "# Operator Logika\n",
    "\n",
    "    Operasi logika, seperti logika AND, OR, NOT.\n",
    "\n",
    "|Nama |\tSimbol di Python |\n",
    "|:----|:----------|\n",
    "| Logika AND |\tand |\n",
    "| Logika OR\t| or |\n",
    "| Negasi/kebalikan |\tnot |"
   ]
  },
  {
   "cell_type": "code",
   "execution_count": 35,
   "id": "f029dc08",
   "metadata": {},
   "outputs": [],
   "source": [
    "a=True\n",
    "b=False"
   ]
  },
  {
   "cell_type": "code",
   "execution_count": 36,
   "id": "5da267e2",
   "metadata": {},
   "outputs": [
    {
     "data": {
      "text/plain": [
       "False"
      ]
     },
     "execution_count": 36,
     "metadata": {},
     "output_type": "execute_result"
    }
   ],
   "source": [
    "c = a and b\n",
    "c"
   ]
  },
  {
   "cell_type": "code",
   "execution_count": 37,
   "id": "58e19134",
   "metadata": {},
   "outputs": [
    {
     "data": {
      "text/plain": [
       "True"
      ]
     },
     "execution_count": 37,
     "metadata": {},
     "output_type": "execute_result"
    }
   ],
   "source": [
    "d = a or b\n",
    "d"
   ]
  },
  {
   "cell_type": "code",
   "execution_count": 38,
   "id": "33838d8e",
   "metadata": {},
   "outputs": [],
   "source": [
    "e = not a"
   ]
  },
  {
   "cell_type": "code",
   "execution_count": 39,
   "id": "fc6e8e89",
   "metadata": {},
   "outputs": [
    {
     "data": {
      "text/plain": [
       "False"
      ]
     },
     "execution_count": 39,
     "metadata": {},
     "output_type": "execute_result"
    }
   ],
   "source": [
    "e"
   ]
  },
  {
   "cell_type": "markdown",
   "id": "c2a1c391",
   "metadata": {},
   "source": [
    "# Operator Ternary\n",
    "Operator ternary dikenal dengan operator kondisi, karena digunakan untuk membuat sebuah ekspresi kondisi seperti percabgan IF/ELSE.\n",
    "\n",
    "Operator ternary sebenarnya tidak ada dalam Python, tapi python punya cara lain untuk menggantikan operator ini.\n",
    "\n",
    "Pada bahasa pemrograman lain operator ternary menggunakan tanda tanya (?) dan titik dua (:).\n",
    "\n",
    "kondisi ? <nilai true> : <nilai false>\n",
    "    \n",
    "aku = (umur < 10) ? \"anak\" : \"dewasa\"\n",
    "\n",
    "Dalam Python bentuknya berbeda, yaitu menggunakann IF/ELSE dalam satu baris.   "
   ]
  },
  {
   "cell_type": "code",
   "execution_count": 41,
   "id": "a3d63ef2",
   "metadata": {},
   "outputs": [
    {
     "name": "stdout",
     "output_type": "stream",
     "text": [
      "berapa usia kamu?15\n"
     ]
    }
   ],
   "source": [
    "umur = input(\"berapa usia kamu?\")"
   ]
  },
  {
   "cell_type": "code",
   "execution_count": 42,
   "id": "2e88c7c4",
   "metadata": {},
   "outputs": [
    {
     "data": {
      "text/plain": [
       "'dewasa'"
      ]
     },
     "execution_count": 42,
     "metadata": {},
     "output_type": "execute_result"
    }
   ],
   "source": [
    "aku = \"anak\" if int(umur) < 10 else \"dewasa\"\n",
    "aku"
   ]
  },
  {
   "cell_type": "markdown",
   "id": "d2b424a4",
   "metadata": {},
   "source": [
    "### String Manipulation"
   ]
  },
  {
   "cell_type": "code",
   "execution_count": 48,
   "id": "5f1b12ed",
   "metadata": {},
   "outputs": [
    {
     "name": "stdout",
     "output_type": "stream",
     "text": [
      "i have crush on you\n"
     ]
    }
   ],
   "source": [
    "# +operators\n",
    "a = 'i have'\n",
    "b = ' crush'\n",
    "c = ' on you'\n",
    "\n",
    "print(a + b + c)"
   ]
  },
  {
   "cell_type": "code",
   "execution_count": 50,
   "id": "09cb8d37",
   "metadata": {},
   "outputs": [
    {
     "name": "stdout",
     "output_type": "stream",
     "text": [
      "haihaihai\n",
      "hh\n"
     ]
    }
   ],
   "source": [
    "# *operators\n",
    "s = \"hai\"\n",
    "print(s*3)\n",
    "print(2*'h')"
   ]
  },
  {
   "cell_type": "code",
   "execution_count": 53,
   "id": "1ccb4ea0",
   "metadata": {},
   "outputs": [
    {
     "name": "stdout",
     "output_type": "stream",
     "text": [
      "False\n",
      "True\n"
     ]
    }
   ],
   "source": [
    "#in operators\n",
    "x = 'foo'\n",
    "print(x in \"That good for us\")\n",
    "print(x in \"That food for us\")"
   ]
  },
  {
   "cell_type": "code",
   "execution_count": 59,
   "id": "8237fd66",
   "metadata": {},
   "outputs": [
    {
     "name": "stdout",
     "output_type": "stream",
     "text": [
      "hacktiv8\n",
      "HACKTIV8\n",
      "haCKtiv8\n",
      "Hadapi dengan senyuman\n",
      "Hadapi Dengan Senyuman\n"
     ]
    }
   ],
   "source": [
    "#Case Conversion\n",
    "b = \"HAckTIV8\"\n",
    "\n",
    "#lower\n",
    "print(b.lower())\n",
    "\n",
    "#Upper\n",
    "print(b.upper())\n",
    "\n",
    "#Swapcase\n",
    "print(b.swapcase())\n",
    "\n",
    "n = \"hadapi dengan senyuman\"\n",
    "print(n.capitalize())\n",
    "print(n.title())"
   ]
  },
  {
   "cell_type": "markdown",
   "id": "22f8e472",
   "metadata": {},
   "source": [
    "### Python List\n",
    "list adalah kumpulan objek yang arbitrary, \n",
    "yang dipisahkan koma dalam tanda kurung siku ([]), \n",
    "\n",
    "Karakteristik List Python adalah sebagai berikut:\n",
    "\n",
    "\n",
    "* Lists di siapkan.\n",
    "* Lists dapat berisi objek sembarang.\n",
    "* Elemen Lists dapat diakses dengan indeks.\n",
    "* List dapat masukan ke kedalaman yang bebas.\n",
    "* List bisa berubah.\n",
    "* List bersifat dinamis."
   ]
  },
  {
   "cell_type": "markdown",
   "id": "db294d76",
   "metadata": {},
   "source": [
    "### Lists are ordered.\n",
    "List adalah kumpulan dari object yang berurutan. \n",
    "\n",
    "Urutan elemen ketika membuat list akan bertahan selama List tersebut ada.\n",
    "\n",
    "List yang memiliki elemen yang sama dalam urutan yang berbeda, tidak sama:"
   ]
  },
  {
   "cell_type": "code",
   "execution_count": 60,
   "id": "d1bd0393",
   "metadata": {},
   "outputs": [
    {
     "name": "stdout",
     "output_type": "stream",
     "text": [
      "False\n",
      "True\n"
     ]
    }
   ],
   "source": [
    "a = ['foo', 'bar', 'baz', 'qux']\n",
    "b = ['baz', 'qux', 'bar', 'foo']\n",
    "c = ['foo', 'bar', 'baz', 'qux']\n",
    "\n",
    "print(a == b)\n",
    "\n",
    "print(a == c)"
   ]
  },
  {
   "cell_type": "markdown",
   "id": "b4d3299a",
   "metadata": {},
   "source": [
    "### Lists can contain any arbitrary objects.\n",
    "\n",
    "Sebuah List dapat berisi bermacam-macam objek. Element dari List semuanya bisa berjenis sama:"
   ]
  },
  {
   "cell_type": "code",
   "execution_count": 61,
   "id": "93511717",
   "metadata": {},
   "outputs": [
    {
     "name": "stdout",
     "output_type": "stream",
     "text": [
      "[21.42, 'foobar', 3, 4, 'bark', False, 3.14159]\n"
     ]
    }
   ],
   "source": [
    "a=  [21.42, 'foobar', 3, 4, 'bark', False, 3.14159]\n",
    "\n",
    "print(a)"
   ]
  },
  {
   "cell_type": "markdown",
   "id": "ed5ad070",
   "metadata": {},
   "source": [
    "### List Elements Can Be Accessed by Index\n",
    "\n",
    "Elemen individual dalam List dapat diakses menggunakan indeks dalam tanda kurung siku. \n",
    "\n",
    "Ini sama persis dengan mengakses karakter individu dalam sebuah string. \n",
    "\n",
    "Pengindeksan List berbasis nol seperti halnya dengan string.\n",
    "\n",
    "Perhatikan List berikut ini:\n",
    "\n",
    "List Elements\n",
    "\n",
    "![alt text](https://i.ibb.co/HBpJ63P/list2.png \"List Element\")\n",
    "\n"
   ]
  },
  {
   "cell_type": "code",
   "execution_count": 62,
   "id": "4f782410",
   "metadata": {},
   "outputs": [
    {
     "name": "stdout",
     "output_type": "stream",
     "text": [
      "corge\n",
      "corge\n"
     ]
    }
   ],
   "source": [
    "lstA = ['foo', 'bar', 'baz', 'qux', 'quux', 'corge']\n",
    "\n",
    "print(lstA[5])\n",
    "print(lstA[-1])"
   ]
  },
  {
   "cell_type": "markdown",
   "id": "58d961a4",
   "metadata": {},
   "source": [
    "\n",
    "Fungsi Python max() digunakan untuk menemukan nilai terbesar dalam daftar nilai. \n",
    "\n",
    "Fungsi Python min() digunakan untuk menemukan nilai terendah dalam daftar. \n",
    "\n",
    "Daftar nilai dapat berisi string atau angka.\n"
   ]
  },
  {
   "cell_type": "code",
   "execution_count": 63,
   "id": "72bc4d58",
   "metadata": {},
   "outputs": [
    {
     "name": "stdout",
     "output_type": "stream",
     "text": [
      "['foo', 'bar', 'baz', 'qux', 'quux', 'corge']\n",
      "6\n",
      "bar\n",
      "qux\n"
     ]
    }
   ],
   "source": [
    "# len(), min(), max()\n",
    "\n",
    "lstB = ['foo', 'bar', 'baz', 'qux', 'quux', 'corge']\n",
    "\n",
    "print(lstB)\n",
    "print(len(lstB))\n",
    "print(min(lstB))\n",
    "print(max(lstB))"
   ]
  },
  {
   "cell_type": "code",
   "execution_count": 64,
   "id": "30da90bc",
   "metadata": {},
   "outputs": [
    {
     "name": "stdout",
     "output_type": "stream",
     "text": [
      "6\n",
      "5\n",
      "40\n",
      "1\n"
     ]
    }
   ],
   "source": [
    "lstNilai = [10,12,20,5,40,15]\n",
    "print(len(lstNilai))\n",
    "print(min(lstNilai))\n",
    "print(max(lstNilai))\n",
    "print(min(10,20,1))"
   ]
  },
  {
   "cell_type": "markdown",
   "id": "b01588e0",
   "metadata": {},
   "source": [
    "### Modifying a Single List Value\n",
    "\n",
    "Satu nilai dalam list dapat diganti dengan pengindeksan dan assignment sederhana:"
   ]
  },
  {
   "cell_type": "code",
   "execution_count": 65,
   "id": "021272ec",
   "metadata": {},
   "outputs": [
    {
     "name": "stdout",
     "output_type": "stream",
     "text": [
      "['foo', 'bar', 'baz', 'qux', 'quux', 'corge']\n"
     ]
    }
   ],
   "source": [
    "lstX = ['foo', 'bar', 'baz', 'qux', 'quux', 'corge']\n",
    "print(lstX) "
   ]
  },
  {
   "cell_type": "code",
   "execution_count": 66,
   "id": "930d13c2",
   "metadata": {},
   "outputs": [
    {
     "name": "stdout",
     "output_type": "stream",
     "text": [
      "['foo', 'bar', 100, 'qux', 'quux', 'corge']\n"
     ]
    }
   ],
   "source": [
    "lstX[2] = 100 \n",
    "print(lstX)"
   ]
  },
  {
   "cell_type": "code",
   "execution_count": 67,
   "id": "83848e04",
   "metadata": {},
   "outputs": [
    {
     "name": "stdout",
     "output_type": "stream",
     "text": [
      "['foo', 'bar', 'baz', 'qux', 'quux', 10]\n"
     ]
    }
   ],
   "source": [
    "lstX = ['foo', 'bar', 'baz', 'qux', 'quux', 'corge']\n",
    "lstX[-1] = 10 \n",
    "print(lstX)"
   ]
  },
  {
   "cell_type": "code",
   "execution_count": 68,
   "id": "e479236f",
   "metadata": {},
   "outputs": [
    {
     "name": "stdout",
     "output_type": "stream",
     "text": [
      "['foo', 'bar', 'baz', 'quux', 10]\n"
     ]
    }
   ],
   "source": [
    "# A list item can be deleted with the del command:\n",
    "\n",
    "del lstX[3] \n",
    "\n",
    "print(lstX)"
   ]
  },
  {
   "cell_type": "markdown",
   "id": "9a6f9c57",
   "metadata": {},
   "source": [
    "### Modifying Multiple List Values\n",
    "\n",
    "Bagaimana jika kalian ingin mengubah beberapa elemen yang bersebelahan dalam list sekaligus?\n",
    "\n",
    "Python memungkinkan hal ini dengan slice, yang memiliki sintaks berikut:"
   ]
  },
  {
   "cell_type": "code",
   "execution_count": 71,
   "id": "1ad6aebe",
   "metadata": {},
   "outputs": [
    {
     "name": "stdout",
     "output_type": "stream",
     "text": [
      "['bar', 'baz']\n"
     ]
    }
   ],
   "source": [
    "a = ['foo', 'bar', 'baz', 'qux', 'quux', 'corge']\n",
    "\n",
    "print(a[1:3])"
   ]
  },
  {
   "cell_type": "code",
   "execution_count": 72,
   "id": "1e585b7c",
   "metadata": {},
   "outputs": [
    {
     "name": "stdout",
     "output_type": "stream",
     "text": [
      "['foo', 1.1, 2.2, 3.3, 4.4, 5.5, 'qux', 'quux', 'corge']\n"
     ]
    }
   ],
   "source": [
    "a[1:3] = [1.1, 2.2, 3.3, 4.4, 5.5]\n",
    "\n",
    "print(a)"
   ]
  },
  {
   "cell_type": "code",
   "execution_count": 73,
   "id": "5a7a0a4d",
   "metadata": {},
   "outputs": [
    {
     "name": "stdout",
     "output_type": "stream",
     "text": [
      "True\n"
     ]
    }
   ],
   "source": [
    "### Operator in \n",
    "\n",
    "buah = ['apel','jeruk','durian','mangga','rambutan'] \n",
    "\n",
    "print('jeruk' in buah)"
   ]
  },
  {
   "cell_type": "code",
   "execution_count": 74,
   "id": "93316bd2",
   "metadata": {},
   "outputs": [
    {
     "name": "stdout",
     "output_type": "stream",
     "text": [
      "False\n"
     ]
    }
   ],
   "source": [
    "print('nangka' in buah )"
   ]
  },
  {
   "cell_type": "code",
   "execution_count": 75,
   "id": "28039b4f",
   "metadata": {},
   "outputs": [
    {
     "data": {
      "text/plain": [
       "3"
      ]
     },
     "execution_count": 75,
     "metadata": {},
     "output_type": "execute_result"
    }
   ],
   "source": [
    "### Mencari Index \n",
    "\n",
    "buah.index('mangga')"
   ]
  },
  {
   "cell_type": "code",
   "execution_count": 76,
   "id": "1ebb7f7d",
   "metadata": {},
   "outputs": [
    {
     "name": "stdout",
     "output_type": "stream",
     "text": [
      "['apel', 'jeruk', 'durian', 'mangga', 'rambutan', 'jeruk']\n"
     ]
    }
   ],
   "source": [
    "# menambahkan \n",
    "buah.append('jeruk')\n",
    "print(buah)"
   ]
  },
  {
   "cell_type": "code",
   "execution_count": 77,
   "id": "f48507e1",
   "metadata": {},
   "outputs": [
    {
     "data": {
      "text/plain": [
       "1"
      ]
     },
     "execution_count": 77,
     "metadata": {},
     "output_type": "execute_result"
    }
   ],
   "source": [
    "# ditemukan nama yg sama maka yg di ambil yg pertama \n",
    "buah.index('jeruk')"
   ]
  },
  {
   "cell_type": "code",
   "execution_count": 78,
   "id": "142ae056",
   "metadata": {},
   "outputs": [
    {
     "name": "stdout",
     "output_type": "stream",
     "text": [
      "['apel', 'durian', 'mangga', 'rambutan', 'jeruk']\n"
     ]
    }
   ],
   "source": [
    "# menghapus menggunakan index\n",
    "del buah[1] \n",
    "print(buah)"
   ]
  },
  {
   "cell_type": "code",
   "execution_count": 79,
   "id": "4c8bb80c",
   "metadata": {},
   "outputs": [
    {
     "name": "stdout",
     "output_type": "stream",
     "text": [
      "['apel', 'durian', 'rambutan', 'jeruk']\n"
     ]
    }
   ],
   "source": [
    "# menghapus menggunakan value \n",
    "buah.remove('mangga')\n",
    "print(buah)"
   ]
  },
  {
   "cell_type": "code",
   "execution_count": 80,
   "id": "a5826eb7",
   "metadata": {},
   "outputs": [
    {
     "name": "stdout",
     "output_type": "stream",
     "text": [
      "['apel', 'durian', 'jeruk', 'rambutan']\n"
     ]
    }
   ],
   "source": [
    "## Sorting list \n",
    "buah.sort()\n",
    "print(buah)"
   ]
  },
  {
   "cell_type": "code",
   "execution_count": 81,
   "id": "29326c71",
   "metadata": {},
   "outputs": [
    {
     "name": "stdout",
     "output_type": "stream",
     "text": [
      "['c', 'd', 'a']\n"
     ]
    }
   ],
   "source": [
    "## Menyalin list \n",
    "\n",
    "listx = ['c','d','a'] #\n",
    "listy = listx # list\n",
    "print(listy)"
   ]
  },
  {
   "cell_type": "code",
   "execution_count": 82,
   "id": "0e0f272b",
   "metadata": {},
   "outputs": [
    {
     "name": "stdout",
     "output_type": "stream",
     "text": [
      "['a', 'd', 'a']\n"
     ]
    }
   ],
   "source": [
    "listy[0]='a'\n",
    "print(listy)"
   ]
  },
  {
   "cell_type": "code",
   "execution_count": 83,
   "id": "9f3b2a6f",
   "metadata": {},
   "outputs": [
    {
     "name": "stdout",
     "output_type": "stream",
     "text": [
      "['a', 'd', 'a']\n"
     ]
    }
   ],
   "source": [
    "print(listx) ## akan mengikuti variabel dari y "
   ]
  },
  {
   "cell_type": "code",
   "execution_count": 84,
   "id": "d5dbf20e",
   "metadata": {},
   "outputs": [
    {
     "name": "stdout",
     "output_type": "stream",
     "text": [
      "['a', 'd', 'a']\n",
      "['a', 'd', 'a']\n",
      "['x', 'd', 'a']\n"
     ]
    }
   ],
   "source": [
    "import copy \n",
    "list1 = copy.copy(listx) #\n",
    "print(list1) #\n",
    "list1[0] = 'x' # list\n",
    "print(listx) # list\n",
    "print(list1)"
   ]
  },
  {
   "cell_type": "markdown",
   "id": "e86d6882",
   "metadata": {},
   "source": [
    "## Python Tuples\n",
    "\n",
    "Python menyediakan tipe lain dari kumpulan objek yang berurutan, disebut tuple.\n",
    "\n",
    "\n",
    "### Defining and Using Tuples\n",
    "\n",
    "Tuples identik dengan list dalam segala hal, kecuali untuk properti berikut:\n",
    "\n",
    "Tuples didefinisikan dengan mengapit elemen dalam tanda kurung (()) \n",
    "\n",
    "daripada tanda kurung siku ([]).\n",
    "\n",
    "Tuples tidak bisa diubah. \n",
    "\n",
    "Berikut adalah contoh singkat yang menunjukkan pendeklarasian tuple, \n",
    "\n",
    "pengindeksan, dan slicing:"
   ]
  },
  {
   "cell_type": "code",
   "execution_count": 1,
   "id": "b1fa5b39",
   "metadata": {},
   "outputs": [
    {
     "name": "stdout",
     "output_type": "stream",
     "text": [
      "('foo', 'bar', 'baz', 'qux', 'quux', 'corge')\n",
      "foo\n",
      "corge\n"
     ]
    }
   ],
   "source": [
    "t = ('foo', 'bar', 'baz', 'qux', 'quux', 'corge')\n",
    "print(t)\n",
    "print(t[0])\n",
    "print(t[-1])"
   ]
  },
  {
   "cell_type": "code",
   "execution_count": 2,
   "id": "2604387a",
   "metadata": {},
   "outputs": [
    {
     "name": "stdout",
     "output_type": "stream",
     "text": [
      "qux\n"
     ]
    }
   ],
   "source": [
    "# packing and unpacking\n",
    "(s0,s1,s2,s3,s4,s5) = ('foo', 'bar', 'baz', 'qux', 'quux', 'corge')\n",
    "print(s3)"
   ]
  },
  {
   "cell_type": "markdown",
   "id": "2d2b3102",
   "metadata": {},
   "source": [
    "## Python Dictionary\n",
    "\n",
    "Dictionaries and lists share the following characteristics:\n",
    "\n",
    "* Keduanya bisa berubah.\n",
    "* Keduanya dinamis. bisa ditambahkan dan dikurangi sesuai kebutuhan.\n",
    "* Keduanya dapat bersarang. Sebuah list dapat berisi list lain. Dictonarie dapat berisi Dictonary lain. \n",
    "Dictonary juga dapat berisi List, dan sebaliknya.\n",
    "\n",
    "Dictonary berbeda dari daftar terutama dalam cara elemen diakses:\n",
    "\n",
    "* Elemen list diakses berdasarkan posisinya dalam list, melalui pengindeksan.\n",
    "* Elemen Dictonary diakses melalui key.\n",
    "\n",
    "Defining a Dictionary\n",
    "Dictionaries adalah implementasi Python dari struktur data yang lebih dikenal sebagai associative array. Dictionaries terdiri dari key-value pairs. \n",
    "Setiap key-value pairs memetakan key ke value yang terkait.\n",
    "\n",
    "Kalian bisa mendefinisikan Dictionaries dengan mengapit daftar key-value pairs yang dipisahkan koma dalam tanda kurung kurawal ({}). Titik dua (:) memisahkan setiap kunci dari nilai yang terkait."
   ]
  },
  {
   "cell_type": "code",
   "execution_count": 3,
   "id": "20f49853",
   "metadata": {},
   "outputs": [],
   "source": [
    "MLB_team = {\n",
    "    'Colorado': 'Rockies',\n",
    "    'Boston': 'Red Sox',\n",
    "    'Minnesota': 'Twins',\n",
    "    'Milwaukee': 'Brewers',\n",
    "    'Seattle': 'Mariners'\n",
    "}"
   ]
  },
  {
   "cell_type": "code",
   "execution_count": 5,
   "id": "cc71e426",
   "metadata": {},
   "outputs": [
    {
     "name": "stdout",
     "output_type": "stream",
     "text": [
      "{'Colorado': 'Rockies', 'Boston': 'Red Sox', 'Minnesota': 'Twins', 'Milwaukee': 'Brewers', 'Seattle': 'Mariners'}\n",
      "Red Sox\n",
      "Mariners\n",
      "Brewers\n"
     ]
    }
   ],
   "source": [
    "print(MLB_team)\n",
    "print(MLB_team[\"Boston\"])\n",
    "print(MLB_team[\"Seattle\"])\n",
    "print(MLB_team[\"Milwaukee\"])\n"
   ]
  },
  {
   "cell_type": "code",
   "execution_count": 6,
   "id": "6bd1fd55",
   "metadata": {},
   "outputs": [
    {
     "data": {
      "text/plain": [
       "{'Colorado': 'Rockies',\n",
       " 'Boston': 'Red Sox',\n",
       " 'Minnesota': 'Twins',\n",
       " 'Milwaukee': 'Brewers',\n",
       " 'Seattle': 'Mariners',\n",
       " 'Kansas City': 'Royals'}"
      ]
     },
     "execution_count": 6,
     "metadata": {},
     "output_type": "execute_result"
    }
   ],
   "source": [
    "#Adding an entry to an existing dictionary is simply a matter of assigning a new key and value:\n",
    "\n",
    "MLB_team['Kansas City'] = 'Royals'\n",
    "MLB_team"
   ]
  },
  {
   "cell_type": "code",
   "execution_count": 7,
   "id": "d22883b5",
   "metadata": {},
   "outputs": [
    {
     "data": {
      "text/plain": [
       "{'Colorado': 'Rockies',\n",
       " 'Boston': 'Red Sox',\n",
       " 'Minnesota': 'Twins',\n",
       " 'Milwaukee': 'Brewers',\n",
       " 'Seattle': 'Seahawks',\n",
       " 'Kansas City': 'Royals'}"
      ]
     },
     "execution_count": 7,
     "metadata": {},
     "output_type": "execute_result"
    }
   ],
   "source": [
    "# If you want to update an entry, you can just assign a new value to an existing key:\n",
    "\n",
    "MLB_team['Seattle'] = 'Seahawks'\n",
    "MLB_team"
   ]
  },
  {
   "cell_type": "code",
   "execution_count": 8,
   "id": "a471d90a",
   "metadata": {},
   "outputs": [
    {
     "data": {
      "text/plain": [
       "{'Colorado': 'Rockies',\n",
       " 'Boston': 'Red Sox',\n",
       " 'Minnesota': 'Twins',\n",
       " 'Milwaukee': 'Brewers',\n",
       " 'Kansas City': 'Royals'}"
      ]
     },
     "execution_count": 8,
     "metadata": {},
     "output_type": "execute_result"
    }
   ],
   "source": [
    "# To delete an entry, use the del statement, specifying the key to delete:\n",
    "\n",
    "del(MLB_team['Seattle'])\n",
    "MLB_team"
   ]
  },
  {
   "cell_type": "markdown",
   "id": "69a00f44",
   "metadata": {},
   "source": [
    "### Building a Dictionary Incrementally\n",
    "\n",
    "Mendefinisikan dictionary menggunakan tanda kurung kurawal dan key-value pairs, seperti yang ditunjukkan di atas, tidak masalah jika kalian mengetahui semua kunci dan nilai sebelumnya. Tetapi bagaimana jika kalian ingin membuat dictionary sambil jalan?\n",
    "\n",
    "Kalian bisa mulai dengan membuat dictionary kosong, yang ditentukan dengan tanda kurung kurawal kosong. Kemudian kalian dapat menambahkan kunci dan nilai baru satu per satu:"
   ]
  },
  {
   "cell_type": "code",
   "execution_count": 9,
   "id": "d70bb276",
   "metadata": {},
   "outputs": [
    {
     "data": {
      "text/plain": [
       "dict"
      ]
     },
     "execution_count": 9,
     "metadata": {},
     "output_type": "execute_result"
    }
   ],
   "source": [
    "person = {} \n",
    "type(person)"
   ]
  },
  {
   "cell_type": "code",
   "execution_count": 11,
   "id": "0b08f442",
   "metadata": {},
   "outputs": [],
   "source": [
    "person['fname'] = \"IKetut\"\n",
    "person[\"lname\"] = 'Gunawan' \n",
    "person['age']=45 \n",
    "person[\"children\"] =['Yusuf','Sulaiman','Ibrahim','Fatimah']\n",
    "person['pets'] = [{'keysArr': ['ath', 'atl', 'circulatingSupply'],'Dog':'Jumba'}]\n",
    "person[\"skill\"] = {\"programming\":['Java','Golang','Python','Solidity'],\n",
    "                   \"database\":{\"nosql\":['MonggoDb','Neo4J'],\"rdbms\":['Mysql','PostgreSQL','Oracle']}}"
   ]
  },
  {
   "cell_type": "code",
   "execution_count": 12,
   "id": "978d37be",
   "metadata": {},
   "outputs": [
    {
     "data": {
      "text/plain": [
       "{'fname': 'IKetut',\n",
       " 'lname': 'Gunawan',\n",
       " 'age': 45,\n",
       " 'children': ['Yusuf', 'Sulaiman', 'Ibrahim', 'Fatimah'],\n",
       " 'pets': [{'keysArr': ['ath', 'atl', 'circulatingSupply'], 'Dog': 'Jumba'}],\n",
       " 'skill': {'programming': ['Java', 'Golang', 'Python', 'Solidity'],\n",
       "  'database': {'nosql': ['MonggoDb', 'Neo4J'],\n",
       "   'rdbms': ['Mysql', 'PostgreSQL', 'Oracle']}}}"
      ]
     },
     "execution_count": 12,
     "metadata": {},
     "output_type": "execute_result"
    }
   ],
   "source": [
    "person"
   ]
  },
  {
   "cell_type": "markdown",
   "id": "0d016e21",
   "metadata": {},
   "source": [
    "### Casting\n",
    "Merubah dari satu tipe ke tipe lain \n",
    "\n",
    "tipe data  (\"int\",\"float\",\"str\",\"bool\")"
   ]
  },
  {
   "cell_type": "code",
   "execution_count": 13,
   "id": "8332440e",
   "metadata": {},
   "outputs": [
    {
     "name": "stdout",
     "output_type": "stream",
     "text": [
      "data : 10.2  Tipe :  <class 'float'>\n"
     ]
    }
   ],
   "source": [
    "# float \n",
    "\n",
    "data_float = 10.2\n",
    "print (\"data :\",data_float,\" Tipe : \",type(data_float))"
   ]
  },
  {
   "cell_type": "code",
   "execution_count": 14,
   "id": "34ca4a2e",
   "metadata": {},
   "outputs": [
    {
     "name": "stdout",
     "output_type": "stream",
     "text": [
      "data : 10  Tipe :  <class 'int'>\n",
      "data : 10.2  Tipe :  <class 'str'>\n",
      "data : True  Tipe :  <class 'bool'>\n"
     ]
    }
   ],
   "source": [
    "#casting float \n",
    "data_int = int(data_float) # lakukan uji coba diganti data_float adakah pembulatan ? tidak ada \n",
    "data_str = str(data_float) \n",
    "data_bool = bool(data_float) # lakukan uji coba diganti data_float\n",
    "\n",
    "print (\"data :\",data_int,\" Tipe : \",type(data_int))\n",
    "print (\"data :\",data_str,\" Tipe : \",type(data_str))\n",
    "print (\"data :\",data_bool,\" Tipe : \",type(data_bool))"
   ]
  },
  {
   "cell_type": "code",
   "execution_count": 15,
   "id": "45547df3",
   "metadata": {},
   "outputs": [
    {
     "name": "stdout",
     "output_type": "stream",
     "text": [
      "data : 5  Tipe :  <class 'int'>\n"
     ]
    }
   ],
   "source": [
    "# int \n",
    "\n",
    "data_int = 5\n",
    "print (\"data :\",data_int,\" Tipe : \",type(data_int))"
   ]
  },
  {
   "cell_type": "code",
   "execution_count": 16,
   "id": "2943ff7c",
   "metadata": {},
   "outputs": [
    {
     "name": "stdout",
     "output_type": "stream",
     "text": [
      "data : 5  Tipe :  <class 'float'>\n",
      "data : 5  Tipe :  <class 'str'>\n",
      "data : True  Tipe :  <class 'bool'>\n"
     ]
    }
   ],
   "source": [
    "#casting int \n",
    "# perhatikan tipe data bool cating \n",
    "\n",
    "data_float = float(data_int) \n",
    "data_str = str(data_int) \n",
    "data_bool = bool(data_int)  # kapan false jika nilai 0  , selain 0 adalah true \n",
    "\n",
    "print (\"data :\",data_int,\" Tipe : \",type(data_float))\n",
    "print (\"data :\",data_str,\" Tipe : \",type(data_str))\n",
    "print (\"data :\",data_bool,\" Tipe : \",type(data_bool))"
   ]
  },
  {
   "cell_type": "code",
   "execution_count": 17,
   "id": "48081dfc",
   "metadata": {},
   "outputs": [
    {
     "name": "stdout",
     "output_type": "stream",
     "text": [
      "data : False  Tipe :  <class 'bool'>\n"
     ]
    }
   ],
   "source": [
    "# bool \n",
    "\n",
    "data_bool = False   # change to True\n",
    "print (\"data :\",data_bool,\" Tipe : \",type(data_bool))"
   ]
  },
  {
   "cell_type": "code",
   "execution_count": 18,
   "id": "190a9580",
   "metadata": {},
   "outputs": [
    {
     "name": "stdout",
     "output_type": "stream",
     "text": [
      "data : 0  Tipe :  <class 'int'>\n",
      "data : False  Tipe :  <class 'str'>\n",
      "data : 0.0  Tipe :  <class 'float'>\n"
     ]
    }
   ],
   "source": [
    "#casting bool \n",
    "data_int = int(data_bool) \n",
    "data_str = str(data_bool) \n",
    "data_float = float(data_bool) \n",
    "\n",
    "print (\"data :\",data_int,\" Tipe : \",type(data_int))\n",
    "print (\"data :\",data_str,\" Tipe : \",type(data_str))\n",
    "print (\"data :\",data_float,\" Tipe : \",type(data_float))"
   ]
  },
  {
   "cell_type": "code",
   "execution_count": 19,
   "id": "26106371",
   "metadata": {},
   "outputs": [
    {
     "name": "stdout",
     "output_type": "stream",
     "text": [
      "data : 10.5  Tipe :  <class 'str'>\n"
     ]
    }
   ],
   "source": [
    "# str \n",
    "\n",
    "data_str = \"10.5\"   #   coba char , numeric , \" \", \"\"\n",
    "print (\"data :\",data_str,\" Tipe : \",type(data_str))"
   ]
  },
  {
   "cell_type": "code",
   "execution_count": 20,
   "id": "c698ef79",
   "metadata": {},
   "outputs": [
    {
     "name": "stdout",
     "output_type": "stream",
     "text": [
      "data : True  Tipe :  <class 'bool'>\n",
      "data : 10  Tipe :  <class 'str'>\n",
      "data : 10.5  Tipe :  <class 'str'>\n"
     ]
    }
   ],
   "source": [
    "#casting str \n",
    "data_bool  = bool(data_str)  # harus .... untuk menjadi False \n",
    "data_int   = int(float(data_str))   # harus ....\n",
    "data_float = float(data_str) # harus .... \n",
    "\n",
    "print (\"data :\",data_bool,\" Tipe : \",type(data_bool))\n",
    "print (\"data :\",data_int,\" Tipe : \",type(data_str))\n",
    "print (\"data :\",data_str,\" Tipe : \",type(data_str))"
   ]
  },
  {
   "cell_type": "code",
   "execution_count": 21,
   "id": "8e1199e1",
   "metadata": {},
   "outputs": [
    {
     "name": "stdout",
     "output_type": "stream",
     "text": [
      "['B', 'e', 'l', 'a', 'j', 'a', 'r', ' ', 'P', 'y', 't', 'h', 'o', 'n', ' ', 'd', 'i', ' ', 'H', 'a', 'c', 't', 'i', 'v', '8', '.']\n",
      "('B', 'e', 'l', 'a', 'j', 'a', 'r', ' ', 'P', 'y', 't', 'h', 'o', 'n', ' ', 'd', 'i', ' ', 'H', 'a', 'c', 't', 'i', 'v', '8', '.')\n",
      "{'a', 'r', 'j', 'l', 'e', ' ', 'H', 'o', 'P', '8', 'B', 't', 'n', 'v', 'd', '.', 'y', 'i', 'c', 'h'}\n"
     ]
    }
   ],
   "source": [
    "text = \"Belajar Python di Hactiv8.\"\n",
    "\n",
    "print(list(text))\n",
    "print(tuple(text))\n",
    "print(set(text))"
   ]
  }
 ],
 "metadata": {
  "kernelspec": {
   "display_name": "Python 3",
   "language": "python",
   "name": "python3"
  },
  "language_info": {
   "codemirror_mode": {
    "name": "ipython",
    "version": 3
   },
   "file_extension": ".py",
   "mimetype": "text/x-python",
   "name": "python",
   "nbconvert_exporter": "python",
   "pygments_lexer": "ipython3",
   "version": "3.8.8"
  }
 },
 "nbformat": 4,
 "nbformat_minor": 5
}
